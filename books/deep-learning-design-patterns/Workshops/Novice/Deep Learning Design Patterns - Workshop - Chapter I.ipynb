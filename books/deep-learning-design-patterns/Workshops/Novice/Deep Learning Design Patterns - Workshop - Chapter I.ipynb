{
  "nbformat": 4,
  "nbformat_minor": 0,
  "metadata": {
    "kernelspec": {
      "display_name": "Python 3",
      "language": "python",
      "name": "python3"
    },
    "language_info": {
      "codemirror_mode": {
        "name": "ipython",
        "version": 3
      },
      "file_extension": ".py",
      "mimetype": "text/x-python",
      "name": "python",
      "nbconvert_exporter": "python",
      "pygments_lexer": "ipython3",
      "version": "3.7.3"
    },
    "colab": {
      "name": "Deep Learning Design Patterns - Workshop - Chapter I.ipynb",
      "provenance": []
    }
  },
  "cells": [
    {
      "cell_type": "code",
      "metadata": {
        "id": "Hen1nXsis0jU",
        "colab_type": "code",
        "colab": {}
      },
      "source": [
        "# Copyright 2020 Google LLC\n",
        "#\n",
        "# Licensed under the Apache License, Version 2.0 (the \"License\");\n",
        "# you may not use this file except in compliance with the License.\n",
        "# You may obtain a copy of the License at\n",
        "#\n",
        "#     https://www.apache.org/licenses/LICENSE-2.0\n",
        "#\n",
        "# Unless required by applicable law or agreed to in writing, software\n",
        "# distributed under the License is distributed on an \"AS IS\" BASIS,\n",
        "# WITHOUT WARRANTIES OR CONDITIONS OF ANY KIND, either express or implied.\n",
        "# See the License for the specific language governing permissions and\n",
        "# limitations under the License."
      ],
      "execution_count": 0,
      "outputs": []
    },
    {
      "cell_type": "markdown",
      "metadata": {
        "id": "iWj5Qp9Xs0je",
        "colab_type": "text"
      },
      "source": [
        "<a target=\"_blank\" href=\"https://colab.research.google.com/github/GoogleCloudPlatform/keras-idiomatic-programmer/blob/master/books/deep-learning-design-patterns/Workshops/Novice/Deep%20Learning%20Design%20Patterns%20-%20Workshop%20-%20Chapter%20I.ipynb\">\n",
        "<img src=\"https://www.tensorflow.org/images/colab_logo_32px.png\" />Run in Google Colab</a>"
      ]
    },
    {
      "cell_type": "markdown",
      "metadata": {
        "id": "KMJxXRWNs0jf",
        "colab_type": "text"
      },
      "source": [
        "# Deep Learning Design Patterns - Code Labs \n",
        "\n",
        "## Lab Exercise #1 - Get Started with a Deep Neural Network (DNN)\n",
        "\n",
        "## Prerequistes:\n",
        "\n",
        "    1. Familiar with Python\n",
        "    2. Completed Chapter I: Neural Networks\n",
        "    \n",
        "## Objectives:\n",
        "\n",
        "    1. Install TF.Keras related packages\n",
        "    2. Create a basic DNN (input layer, hidden layer, output layer)\n",
        "        A. Correctly set the input shape.\n",
        "        B. Correctly set the number of nodes.\n",
        "        C. Correctly set activation function.\n",
        "        D. Practive using various Sequential API styles and the Functional API.\n",
        "    3. Review a model.summary()"
      ]
    },
    {
      "cell_type": "markdown",
      "metadata": {
        "id": "nGJfHew7s0jg",
        "colab_type": "text"
      },
      "source": [
        "## Setup:\n",
        "\n",
        "Install relevant packages to get started with Keras, and then import them.\n",
        "\n",
        "For Tensorflow 2.0+ install, you may get incompatibility errors with Tensorboard and TFX. These can be ignored for the purpose of this lab exercise."
      ]
    },
    {
      "cell_type": "code",
      "metadata": {
        "id": "pdCltL0Ts0jh",
        "colab_type": "code",
        "colab": {}
      },
      "source": [
        "# Install numpy math library\n",
        "!pip install -U numpy\n",
        "# Install Tensorflow+Keras\n",
        "!pip install -U tensorflow\n",
        "\n",
        "# Import keras and TF\n",
        "import tensorflow as tf\n",
        "import numpy as np\n",
        "\n",
        "print(np.__version__)              # should be 1.17+\n",
        "print(tf.__version__)              # should be 2.0+"
      ],
      "execution_count": 0,
      "outputs": []
    },
    {
      "cell_type": "markdown",
      "metadata": {
        "id": "kz0lODTOs0jp",
        "colab_type": "text"
      },
      "source": [
        "## Basic DNN as Sequential API (long form)\n",
        "\n",
        "Let's use the long form of a Sequential method. That means that we will use the add() method for each step.\n",
        "\n",
        "Below is a nearly complete DNN for a multi-class classifier. You fill in the blanks (replace the ??), make sure it passes the Python interpreter, and then verify it's correctness with the summary output.\n",
        "\n",
        "You will need to:\n",
        "\n",
        "    1. Fill in the input shape for the 28x28 image input.\n",
        "    2. Specify number of nodes for the dense layers.\n",
        "    3. Set the activation function for the hidden dense layers and ouput dense layer."
      ]
    },
    {
      "cell_type": "code",
      "metadata": {
        "id": "Ob4lEOJAs0jq",
        "colab_type": "code",
        "colab": {}
      },
      "source": [
        "from tensorflow.keras import Sequential\n",
        "from tensorflow.keras.layers import Flatten, Dense, Activation\n",
        "\n",
        "# define the input shape for a 28x28 grayscale image (like MNIST)\n",
        "# HINT: should be a tuple of height and width\n",
        "input_shape=( 28, 28 )\n",
        "\n",
        "# Let's start a sequential model\n",
        "model = Sequential()\n",
        "\n",
        "# Let's flatten the 28x28 image to a 784 1D vector\n",
        "model.add(Flatten(input_shape=input_shape))\n",
        "\n",
        "# Let's add the input layer as a dense layer of 128 nodes\n",
        "# HINT: the parameter is the number of nodes\n",
        "model.add(Dense(784))\n",
        "\n",
        "# Add the activation function\n",
        "# HINT: use the best practice convention for a non-output Dense layer\n",
        "model.add(Activation('relu'))\n",
        "\n",
        "# Add the hidden layer with 512 nodes\n",
        "model.add(Dense(512))\n",
        "model.add(Activation('relu'))\n",
        "\n",
        "# Add the output layer with 10 nodes\n",
        "model.add(Dense(10))\n",
        "\n",
        "# Add the activation function\n",
        "# HINT: use the best practice for a multi-class classifier\n",
        "model.add(Activation('softmax'))"
      ],
      "execution_count": 0,
      "outputs": []
    },
    {
      "cell_type": "markdown",
      "metadata": {
        "id": "dZ4Rbhuus0jw",
        "colab_type": "text"
      },
      "source": [
        "### Verify the model architecture using summary method\n",
        "\n",
        "It should look like below:\n",
        "\n",
        "```\n",
        "Layer (type)                 Output Shape              Param #   \n",
        "=================================================================\n",
        "flatten_1 (Flatten)          (None, 784)               0         \n",
        "_________________________________________________________________\n",
        "dense_4 (Dense)              (None, 128)               100480    \n",
        "_________________________________________________________________\n",
        "activation_4 (Activation)    (None, 128)               0         \n",
        "_________________________________________________________________\n",
        "dense_5 (Dense)              (None, 512)               66048     \n",
        "_________________________________________________________________\n",
        "activation_5 (Activation)    (None, 512)               0         \n",
        "_________________________________________________________________\n",
        "dense_6 (Dense)              (None, 10)                5130      \n",
        "_________________________________________________________________\n",
        "activation_6 (Activation)    (None, 10)                0         \n",
        "=================================================================\n",
        "Total params: 171,658\n",
        "Trainable params: 171,658\n",
        "Non-trainable params: 0\n",
        "```"
      ]
    },
    {
      "cell_type": "code",
      "metadata": {
        "id": "hP_ThfCDs0jx",
        "colab_type": "code",
        "colab": {
          "base_uri": "https://localhost:8080/",
          "height": 295
        },
        "outputId": "056fd48a-53f8-4f06-c9e0-8ea4848f115e"
      },
      "source": [
        "model.summary()"
      ],
      "execution_count": 8,
      "outputs": [
        {
          "output_type": "stream",
          "text": [
            "Model: \"sequential_5\"\n",
            "_________________________________________________________________\n",
            "Layer (type)                 Output Shape              Param #   \n",
            "=================================================================\n",
            "flatten_5 (Flatten)          (None, 784)               0         \n",
            "_________________________________________________________________\n",
            "dense_9 (Dense)              (None, 128)               100480    \n",
            "_________________________________________________________________\n",
            "dense_10 (Dense)             (None, 512)               66048     \n",
            "_________________________________________________________________\n",
            "dense_11 (Dense)             (None, 10)                5130      \n",
            "=================================================================\n",
            "Total params: 171,658\n",
            "Trainable params: 171,658\n",
            "Non-trainable params: 0\n",
            "_________________________________________________________________\n"
          ],
          "name": "stdout"
        }
      ]
    },
    {
      "cell_type": "markdown",
      "metadata": {
        "id": "ha20DpXNs0j1",
        "colab_type": "text"
      },
      "source": [
        "##  Basic DNN as Sequential API (short form)\n",
        "\n",
        "Let's repeat the above, but use the short form.\n",
        "\n",
        "You will need to:\n",
        "\n",
        "    1. Specify the activation functions as a parameter."
      ]
    },
    {
      "cell_type": "code",
      "metadata": {
        "id": "zKaQ81mKs0j2",
        "colab_type": "code",
        "colab": {}
      },
      "source": [
        "from tensorflow.keras import Sequential\n",
        "from tensorflow.keras.layers import Dense\n",
        "\n",
        "# Let's start a sequential model\n",
        "model = Sequential()\n",
        "\n",
        "# Let's add a first flattening layer to flatten the 28x28 image into 1D vector\n",
        "model.add(Flatten(input_shape=(28, 28, 1)))\n",
        "\n",
        "# Let's add the input layer as a dense layer of 128 nodes\n",
        "# HINT: use best practices for activation functions\n",
        "model.add(Dense(128, activation='relu'))\n",
        "\n",
        "# Add the hidden layer with 512 nodes\n",
        "model.add(Dense(512, activation='relu'))\n",
        "\n",
        "# Add the output layer with 10 nodes\n",
        "model.add(Dense(10, activation='softmax'))"
      ],
      "execution_count": 0,
      "outputs": []
    },
    {
      "cell_type": "markdown",
      "metadata": {
        "id": "nSSuV--ns0j8",
        "colab_type": "text"
      },
      "source": [
        "### Verify the model architecture using summary method\n",
        "\n",
        "It should be identical to the previous. But note in this case, summary() does not show the activation functions."
      ]
    },
    {
      "cell_type": "code",
      "metadata": {
        "id": "cmS78j5qs0j9",
        "colab_type": "code",
        "colab": {
          "base_uri": "https://localhost:8080/",
          "height": 295
        },
        "outputId": "63012269-8828-4dac-847a-dbcce160a0f7"
      },
      "source": [
        "model.summary()"
      ],
      "execution_count": 9,
      "outputs": [
        {
          "output_type": "stream",
          "text": [
            "Model: \"sequential_5\"\n",
            "_________________________________________________________________\n",
            "Layer (type)                 Output Shape              Param #   \n",
            "=================================================================\n",
            "flatten_5 (Flatten)          (None, 784)               0         \n",
            "_________________________________________________________________\n",
            "dense_9 (Dense)              (None, 128)               100480    \n",
            "_________________________________________________________________\n",
            "dense_10 (Dense)             (None, 512)               66048     \n",
            "_________________________________________________________________\n",
            "dense_11 (Dense)             (None, 10)                5130      \n",
            "=================================================================\n",
            "Total params: 171,658\n",
            "Trainable params: 171,658\n",
            "Non-trainable params: 0\n",
            "_________________________________________________________________\n"
          ],
          "name": "stdout"
        }
      ]
    },
    {
      "cell_type": "markdown",
      "metadata": {
        "id": "5_OB_QwOs0kE",
        "colab_type": "text"
      },
      "source": [
        "## Basic DNN as Sequential API (list form)\n",
        "\n",
        "Let's repeat the above, but instead specify the layers as a parameter to the Sequential() object, we will specify them using a list.\n",
        "\n",
        "You will need to:\n",
        "\n",
        "    1. Define the hidden layer.\n",
        "    2. Define the output (classifier) layer."
      ]
    },
    {
      "cell_type": "code",
      "metadata": {
        "id": "sRi97ABas0kF",
        "colab_type": "code",
        "colab": {}
      },
      "source": [
        "from tensorflow.keras import Sequential\n",
        "from tensorflow.keras.layers import Dense\n",
        "\n",
        "# Let's start a sequential model\n",
        "model = Sequential([ # input layer\n",
        "                     Flatten(input_shape=(28, 28, 1)),\n",
        "                     Dense(128, activation='relu'),\n",
        "                     # hidden layer\n",
        "                     Dense(128, activation='relu'),\n",
        "                     # output layer\n",
        "                     Dense(10, activation='softmax'),\n",
        "                    ])"
      ],
      "execution_count": 0,
      "outputs": []
    },
    {
      "cell_type": "markdown",
      "metadata": {
        "id": "La1vdndZs0kN",
        "colab_type": "text"
      },
      "source": [
        "### Verify the model architecture using summary method\n",
        "\n",
        "It should be identical to the previous."
      ]
    },
    {
      "cell_type": "code",
      "metadata": {
        "id": "tICnn8wLs0kO",
        "colab_type": "code",
        "colab": {
          "base_uri": "https://localhost:8080/",
          "height": 295
        },
        "outputId": "a2fdbdd2-c34d-47e5-8bc0-78edcd6a9935"
      },
      "source": [
        "model.summary()"
      ],
      "execution_count": 12,
      "outputs": [
        {
          "output_type": "stream",
          "text": [
            "Model: \"sequential_6\"\n",
            "_________________________________________________________________\n",
            "Layer (type)                 Output Shape              Param #   \n",
            "=================================================================\n",
            "flatten_7 (Flatten)          (None, 784)               0         \n",
            "_________________________________________________________________\n",
            "dense_13 (Dense)             (None, 128)               100480    \n",
            "_________________________________________________________________\n",
            "dense_14 (Dense)             (None, 128)               16512     \n",
            "_________________________________________________________________\n",
            "dense_15 (Dense)             (None, 10)                1290      \n",
            "=================================================================\n",
            "Total params: 118,282\n",
            "Trainable params: 118,282\n",
            "Non-trainable params: 0\n",
            "_________________________________________________________________\n"
          ],
          "name": "stdout"
        }
      ]
    },
    {
      "cell_type": "markdown",
      "metadata": {
        "id": "_2cpBnTss0kS",
        "colab_type": "text"
      },
      "source": [
        "## Basic DNN as Functional API \n",
        "\n",
        "Let's repeat the above, but instead specify the layers using the functional API.\n",
        "\n",
        "This will need to:\n",
        "\n",
        "    1. Specify the input shape for the Input object\n",
        "    2. Connect the Input object to the Flatten layer.\n",
        "    3. Connect the Flatten output to the input Dense layer.\n",
        "    4. Specify the hidden and output layers."
      ]
    },
    {
      "cell_type": "code",
      "metadata": {
        "id": "Ph-SD28ls0kT",
        "colab_type": "code",
        "colab": {}
      },
      "source": [
        "from tensorflow.keras import Model, Input\n",
        "from tensorflow.keras.layers import Dense, Flatten\n",
        "\n",
        "# Define the input vector for the 28x28 images\n",
        "# HINT: Should be a tuple of height and width\n",
        "inputs = Input(784)\n",
        "\n",
        "# Let's flatten the image into a 1D vector\n",
        "# HINT: the input vector is where you defined the input shape\n",
        "x = Flatten()(inputs)\n",
        "\n",
        "# Define the input layer and connect the flattened input vector\n",
        "# HINT: the output of Flatten() is the flattened input vector\n",
        "x = Dense(128, activation='relu')(x)\n",
        "\n",
        "# Define the hidden layer and connect the hidden layer to it.\n",
        "x = Dense(512, activation='relu')(x)\n",
        "\n",
        "# Define the output layer and connect the hidden layer to it.\n",
        "outputs = Dense(10, activation='softmax')(x)\n",
        "\n",
        "# Let's put it together: \n",
        "# HINT: inputs to outputs\n",
        "model = Model(inputs, outputs)"
      ],
      "execution_count": 0,
      "outputs": []
    },
    {
      "cell_type": "markdown",
      "metadata": {
        "id": "Vg-GjQU9s0kZ",
        "colab_type": "text"
      },
      "source": [
        "### Verify the model architecture using summary method\n",
        "\n",
        "It should be identical to the previous."
      ]
    },
    {
      "cell_type": "code",
      "metadata": {
        "id": "fYzpN_xgs0kb",
        "colab_type": "code",
        "colab": {
          "base_uri": "https://localhost:8080/",
          "height": 329
        },
        "outputId": "03418a45-1050-4449-9385-9ff95d3df3a2"
      },
      "source": [
        "model.summary()"
      ],
      "execution_count": 14,
      "outputs": [
        {
          "output_type": "stream",
          "text": [
            "Model: \"model\"\n",
            "_________________________________________________________________\n",
            "Layer (type)                 Output Shape              Param #   \n",
            "=================================================================\n",
            "input_1 (InputLayer)         [(None, 784)]             0         \n",
            "_________________________________________________________________\n",
            "flatten_8 (Flatten)          (None, 784)               0         \n",
            "_________________________________________________________________\n",
            "dense_16 (Dense)             (None, 128)               100480    \n",
            "_________________________________________________________________\n",
            "dense_17 (Dense)             (None, 512)               66048     \n",
            "_________________________________________________________________\n",
            "dense_18 (Dense)             (None, 10)                5130      \n",
            "=================================================================\n",
            "Total params: 171,658\n",
            "Trainable params: 171,658\n",
            "Non-trainable params: 0\n",
            "_________________________________________________________________\n"
          ],
          "name": "stdout"
        }
      ]
    },
    {
      "cell_type": "markdown",
      "metadata": {
        "id": "YxV_5v1os0kf",
        "colab_type": "text"
      },
      "source": [
        "## Training\n",
        "\n",
        "Finally, you will train the model --eventhough we haven't covered training yet. Just follow the steps and later we will revisit and go into details.\n",
        "\n",
        "We will make two copies of the model. One we will train without preprocessing (not covered yet) the MNIST dataset, and the other with preprocessing and compare the results."
      ]
    },
    {
      "cell_type": "code",
      "metadata": {
        "id": "5JLBOy0ps0kg",
        "colab_type": "code",
        "colab": {}
      },
      "source": [
        "def makeModel():\n",
        "    # Make a DNN model\n",
        "    inputs = Input((28, 28))\n",
        "    x = Flatten()(inputs)\n",
        "    x = Dense(128, activation='relu')(x)\n",
        "    x = Dense(512, activation='relu')(x)\n",
        "    outputs = Dense(10, activation='softmax')(x)\n",
        "    model = Model(inputs, outputs)\n",
        "    # Compile the model\n",
        "    model.compile(loss='sparse_categorical_crossentropy', optimizer='adam', metrics=['acc'])\n",
        "    return model\n",
        "\n",
        "# We make two copies of the model\n",
        "model_a = makeModel()\n",
        "model_b = makeModel()"
      ],
      "execution_count": 0,
      "outputs": []
    },
    {
      "cell_type": "markdown",
      "metadata": {
        "id": "hlK2Drbls0kk",
        "colab_type": "text"
      },
      "source": [
        "### Dataset\n",
        "\n",
        "tf.Keras has a variety of builtin datasets, including the MNIST dataset. We will start by getting the dataset as non-processed data. This will include:\n",
        "\n",
        "    training data : *_train\n",
        "    test data .   : *_test\n",
        "    \n",
        "Both the training and test data consists of the training images (x_\\*) and corresponding labels (y_\\*)"
      ]
    },
    {
      "cell_type": "code",
      "metadata": {
        "id": "z4tdQ7P9s0kl",
        "colab_type": "code",
        "colab": {
          "base_uri": "https://localhost:8080/",
          "height": 52
        },
        "outputId": "b6d12d91-eef7-4f72-9665-a13cffa11826"
      },
      "source": [
        "from tensorflow.keras.datasets import mnist\n",
        "\n",
        "# Load the dataset\n",
        "(x_train, y_train), (x_test, y_test) = mnist.load_data()"
      ],
      "execution_count": 16,
      "outputs": [
        {
          "output_type": "stream",
          "text": [
            "Downloading data from https://storage.googleapis.com/tensorflow/tf-keras-datasets/mnist.npz\n",
            "11493376/11490434 [==============================] - 0s 0us/step\n"
          ],
          "name": "stdout"
        }
      ]
    },
    {
      "cell_type": "markdown",
      "metadata": {
        "id": "c0Gl0OV1s0kr",
        "colab_type": "text"
      },
      "source": [
        "### Train w/o preprocessing the data\n",
        "\n",
        "Let's train the first model without preprocessing the data for 10 epochs (not covered yet). Pay attention to the end of the final (epoch 10) training accuracy (acc:) and validation accuracy (val_acc:)."
      ]
    },
    {
      "cell_type": "code",
      "metadata": {
        "id": "qsNbs0xSs0ks",
        "colab_type": "code",
        "colab": {
          "base_uri": "https://localhost:8080/",
          "height": 381
        },
        "outputId": "a7376ae1-c0e9-46e0-dd30-a123ccfa8aa9"
      },
      "source": [
        "model_a.fit(x_train, y_train, epochs=10, batch_size=32, validation_split=0.1, verbose=1)"
      ],
      "execution_count": 17,
      "outputs": [
        {
          "output_type": "stream",
          "text": [
            "Epoch 1/10\n",
            "1688/1688 [==============================] - 5s 3ms/step - loss: 1.3316 - acc: 0.8606 - val_loss: 0.4131 - val_acc: 0.9117\n",
            "Epoch 2/10\n",
            "1688/1688 [==============================] - 5s 3ms/step - loss: 0.4525 - acc: 0.9031 - val_loss: 0.3110 - val_acc: 0.9345\n",
            "Epoch 3/10\n",
            "1688/1688 [==============================] - 5s 3ms/step - loss: 0.3290 - acc: 0.9238 - val_loss: 0.2123 - val_acc: 0.9473\n",
            "Epoch 4/10\n",
            "1688/1688 [==============================] - 5s 3ms/step - loss: 0.2125 - acc: 0.9440 - val_loss: 0.1764 - val_acc: 0.9532\n",
            "Epoch 5/10\n",
            "1688/1688 [==============================] - 5s 3ms/step - loss: 0.1598 - acc: 0.9566 - val_loss: 0.1380 - val_acc: 0.9633\n",
            "Epoch 6/10\n",
            "1688/1688 [==============================] - 5s 3ms/step - loss: 0.1433 - acc: 0.9605 - val_loss: 0.1422 - val_acc: 0.9632\n",
            "Epoch 7/10\n",
            "1688/1688 [==============================] - 5s 3ms/step - loss: 0.1321 - acc: 0.9645 - val_loss: 0.1489 - val_acc: 0.9633\n",
            "Epoch 8/10\n",
            "1688/1688 [==============================] - 5s 3ms/step - loss: 0.1213 - acc: 0.9661 - val_loss: 0.1177 - val_acc: 0.9707\n",
            "Epoch 9/10\n",
            "1688/1688 [==============================] - 5s 3ms/step - loss: 0.1083 - acc: 0.9708 - val_loss: 0.1315 - val_acc: 0.9663\n",
            "Epoch 10/10\n",
            "1688/1688 [==============================] - 5s 3ms/step - loss: 0.0989 - acc: 0.9730 - val_loss: 0.1523 - val_acc: 0.9673\n"
          ],
          "name": "stdout"
        },
        {
          "output_type": "execute_result",
          "data": {
            "text/plain": [
              "<tensorflow.python.keras.callbacks.History at 0x7f1c8007a0b8>"
            ]
          },
          "metadata": {
            "tags": []
          },
          "execution_count": 17
        }
      ]
    },
    {
      "cell_type": "markdown",
      "metadata": {
        "id": "x3asRbwws0kw",
        "colab_type": "text"
      },
      "source": [
        "### Training with preprocessed data.\n",
        "\n",
        "Let's preprocess the image data by normalizing the pixel values --not covered yet, and then train the second model. Pay attention to the final training and validation accuracy."
      ]
    },
    {
      "cell_type": "code",
      "metadata": {
        "id": "tg6z8vCRs0kx",
        "colab_type": "code",
        "colab": {
          "base_uri": "https://localhost:8080/",
          "height": 381
        },
        "outputId": "44a6fc82-a697-436e-d1d6-7362383a0919"
      },
      "source": [
        "# Preprocess the image data\n",
        "x_train = (x_train / 255.0).astype(np.float32)\n",
        "\n",
        "# Train the model\n",
        "model_b.fit(x_train, y_train, epochs=10, batch_size=32, validation_split=0.1, verbose=1)"
      ],
      "execution_count": 18,
      "outputs": [
        {
          "output_type": "stream",
          "text": [
            "Epoch 1/10\n",
            "1688/1688 [==============================] - 5s 3ms/step - loss: 0.2277 - acc: 0.9317 - val_loss: 0.1095 - val_acc: 0.9663\n",
            "Epoch 2/10\n",
            "1688/1688 [==============================] - 5s 3ms/step - loss: 0.0961 - acc: 0.9699 - val_loss: 0.0786 - val_acc: 0.9775\n",
            "Epoch 3/10\n",
            "1688/1688 [==============================] - 5s 3ms/step - loss: 0.0665 - acc: 0.9791 - val_loss: 0.0755 - val_acc: 0.9800\n",
            "Epoch 4/10\n",
            "1688/1688 [==============================] - 5s 3ms/step - loss: 0.0511 - acc: 0.9830 - val_loss: 0.0866 - val_acc: 0.9777\n",
            "Epoch 5/10\n",
            "1688/1688 [==============================] - 5s 3ms/step - loss: 0.0401 - acc: 0.9870 - val_loss: 0.0798 - val_acc: 0.9797\n",
            "Epoch 6/10\n",
            "1688/1688 [==============================] - 5s 3ms/step - loss: 0.0326 - acc: 0.9896 - val_loss: 0.0863 - val_acc: 0.9797\n",
            "Epoch 7/10\n",
            "1688/1688 [==============================] - 5s 3ms/step - loss: 0.0289 - acc: 0.9904 - val_loss: 0.1120 - val_acc: 0.9775\n",
            "Epoch 8/10\n",
            "1688/1688 [==============================] - 5s 3ms/step - loss: 0.0229 - acc: 0.9929 - val_loss: 0.0947 - val_acc: 0.9787\n",
            "Epoch 9/10\n",
            "1688/1688 [==============================] - 5s 3ms/step - loss: 0.0215 - acc: 0.9927 - val_loss: 0.0979 - val_acc: 0.9805\n",
            "Epoch 10/10\n",
            "1688/1688 [==============================] - 5s 3ms/step - loss: 0.0202 - acc: 0.9934 - val_loss: 0.0942 - val_acc: 0.9803\n"
          ],
          "name": "stdout"
        },
        {
          "output_type": "execute_result",
          "data": {
            "text/plain": [
              "<tensorflow.python.keras.callbacks.History at 0x7f1c7c9fad30>"
            ]
          },
          "metadata": {
            "tags": []
          },
          "execution_count": 18
        }
      ]
    },
    {
      "cell_type": "markdown",
      "metadata": {
        "id": "CTw1MLVbs0k2",
        "colab_type": "text"
      },
      "source": [
        "### Observation\n",
        "\n",
        "Note how by preprocessing the data, we get a higher accuracy."
      ]
    },
    {
      "cell_type": "code",
      "metadata": {
        "id": "Zdts2YmYy7jU",
        "colab_type": "code",
        "colab": {}
      },
      "source": [
        ""
      ],
      "execution_count": 0,
      "outputs": []
    },
    {
      "cell_type": "markdown",
      "metadata": {
        "id": "3Oj4XIeZs0k4",
        "colab_type": "text"
      },
      "source": [
        "## End of Lab"
      ]
    }
  ]
}